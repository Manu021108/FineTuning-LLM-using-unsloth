{
 "cells": [
  {
   "cell_type": "code",
   "execution_count": null,
   "metadata": {
    "colab": {
     "base_uri": "https://localhost:8080/"
    },
    "id": "gCFZVWrtqhY-",
    "outputId": "c26d2733-54e3-4e8f-c9b7-dc6529852009"
   },
   "outputs": [],
   "source": [
    "!pip install \"unsloth[colab] @ git+https://github.com/unslothai/unsloth.git\""
   ]
  },
  {
   "cell_type": "code",
   "execution_count": null,
   "metadata": {
    "colab": {
     "base_uri": "https://localhost:8080/"
    },
    "id": "n8VrxYjqt41M",
    "outputId": "95b9d521-7233-4273-9bf7-77038000d8e8"
   },
   "outputs": [],
   "source": [
    "# Then install unsloth\n",
    "!pip install git+https://github.com/unslothai/unsloth.git\n"
   ]
  },
  {
   "cell_type": "code",
   "execution_count": null,
   "metadata": {
    "colab": {
     "base_uri": "https://localhost:8080/"
    },
    "id": "SpPC_npLqnDx",
    "outputId": "357b2a9e-6002-43b2-9057-b5139890188f"
   },
   "outputs": [],
   "source": [
    "!pip install \" git+https://github.com/huggingface/transformers.git\""
   ]
  },
  {
   "cell_type": "code",
   "execution_count": null,
   "metadata": {
    "colab": {
     "base_uri": "https://localhost:8080/"
    },
    "id": "DEtcoROYuBnC",
    "outputId": "3b21b0b3-2563-4dba-a4c6-67a3cd536e79"
   },
   "outputs": [],
   "source": [
    "!pip install trl"
   ]
  },
  {
   "cell_type": "code",
   "execution_count": null,
   "metadata": {
    "colab": {
     "base_uri": "https://localhost:8080/"
    },
    "id": "Xl_29Uoeue_Y",
    "outputId": "fc2cae4f-620e-4827-e835-673f7ec350c1"
   },
   "outputs": [],
   "source": [
    "!pip install bitsandbytes\n"
   ]
  },
  {
   "cell_type": "code",
   "execution_count": null,
   "metadata": {
    "colab": {
     "base_uri": "https://localhost:8080/"
    },
    "id": "QNDB-adYveRS",
    "outputId": "b23c0abe-4bc3-4b8d-d86e-125bbefd39da"
   },
   "outputs": [],
   "source": [
    "!pip install unsloth_zoo\n"
   ]
  },
  {
   "cell_type": "code",
   "execution_count": null,
   "metadata": {
    "colab": {
     "base_uri": "https://localhost:8080/"
    },
    "id": "vSpmlPDUu-oY",
    "outputId": "d8e0e8a7-73e1-4ec6-b8d9-427775d03cfa"
   },
   "outputs": [],
   "source": [
    "from unsloth import FastLanguageModel\n"
   ]
  },
  {
   "cell_type": "code",
   "execution_count": null,
   "metadata": {
    "id": "i4zmCEKoJdjA"
   },
   "outputs": [],
   "source": []
  },
  {
   "cell_type": "code",
   "execution_count": null,
   "metadata": {
    "id": "oibB9CSPvJ_e"
   },
   "outputs": [],
   "source": [
    "import torch"
   ]
  },
  {
   "cell_type": "code",
   "execution_count": null,
   "metadata": {
    "id": "JSRH16J2vxhv"
   },
   "outputs": [],
   "source": [
    "from trl import SFTTrainer\n",
    "from transformers import TrainingArguments\n"
   ]
  },
  {
   "cell_type": "code",
   "execution_count": null,
   "metadata": {
    "id": "-oZiCbltwKcF"
   },
   "outputs": [],
   "source": [
    "from datasets import load_dataset"
   ]
  },
  {
   "cell_type": "code",
   "execution_count": null,
   "metadata": {
    "id": "Mwq9oEexwPpC"
   },
   "outputs": [],
   "source": [
    "max_seq_len =2048"
   ]
  },
  {
   "cell_type": "code",
   "execution_count": null,
   "metadata": {
    "colab": {
     "base_uri": "https://localhost:8080/",
     "height": 241,
     "referenced_widgets": [
      "441916deeb574fcb87c02a7386a79237",
      "8e6c7e03ed8b49568da8a639bfb996e5",
      "e1e8aec88b55469185840ef9c40ae972",
      "43e6c20ea11448a186bde9c4f498440d",
      "c356919af8ca44878b4d1edb5b6f06a8",
      "6e0a17cbc1fc4c8498a3c026a33ec5f7",
      "c3967c6a02f544c29b26a963b9373fae",
      "1ad3ca98849243b89435fe0a76db1364",
      "f48ec355ef5f4106a34701190b826b99",
      "fab772d8a3b649fa9478ed4f402ad141",
      "be08255d715742dba6999dc66014ebad",
      "0a7a2fcaac7e42b78d363fcffc5d183e",
      "afda1aa60787483c89e1c692c6b2ff85",
      "adf9deb6aa2b44d78606f275340b9d70",
      "a8b3b973f81d42ba97bb99c83830ced0",
      "9500f48c415346da8dfd8fdd15dc1ff4",
      "baa309d1d7ea45279ef71f19a030774d",
      "f9e70f71b7f2456686aa1b3520a9fdff",
      "8d45360796c841b4bd99534c25bd3ae5",
      "8add4c509cff4b03863295ce7142e882",
      "da0f1faa13664d5fa082e3668b5b4f01",
      "ccf512c822084d3b81cee56b8c07d183",
      "3caad658b02346159d661c13311546df",
      "86d0c53d928f4096bea2baa6eef99696",
      "62467f85e3d44433a1ff6ca7da7839e1",
      "4e8eff2de6764be887564e151da9b558",
      "2194c6f5e119482ea6ccd53c370300f8",
      "dd33c11b453941ca897235a94ed9cde1",
      "f6b7a21609894bdf9a5cf802ad9c2c93",
      "38b0190b16114170a4127931c918370d",
      "f746b57cd414494ca6f65dadc0fac1eb",
      "b651443d59234454b9a6662935712312",
      "897c599b0c78442ca3b53abee84087f0",
      "ce2c9618725a44cb91cfd3ad5d0e89aa",
      "966ca2c098ce4ea0837480d3fd87e95f",
      "3ce5fd5d28754a9e9ec9000918fb2a67",
      "82612697c0a2421fa892e4d65b42d99d",
      "eaa79c6322d145b4adffdaae270f5acc",
      "c00c8dba3bd94d1a800de85f803263e1",
      "12ec6a1199a549b581bd4b6594f3c510",
      "9d6b7af2267744a1a755778e3a7dafcd",
      "62b59cd2995a405db636845ca195f4a8",
      "6e62e509d3ed443aa1fcf5cfe25a1824",
      "8cd0b45118d14a33b13bbcc6a54b46f4",
      "abd661937b234c09a9bef73c7c27c271",
      "ada1284d1da1401f9392c8b39e8b5ab7",
      "8740099817534f559ffc1bf19892cc3f",
      "32020c58c77e4b33b10ebd881c5d3111",
      "1abf19e70bf042a7bf363bfa81bc1fbd",
      "df8fbd85783a4a829158679a09b84600",
      "7178346884364bd3a98b956262280956",
      "905fd142be024c3da805670eb03469fc",
      "646cf627333d4d8db6f6f2bcceee2fba",
      "99923f6931ac4ec698ae0d34aee25c51",
      "bf8824040df840cf93ea466925020448",
      "3830e2dbe82248389bb34b5175f2c0ec",
      "0330df2860984f7ea11bc0d22c434497",
      "24b9dd52924541b280d1ea6126f47110",
      "194d92e992e04838b63b2cde97b41962",
      "6729b2880a554de1a73a188816197843",
      "ffe7b0ad9621433599a1a06e701a6837",
      "5a1fcfa62e604a79bd7a0396e7f71315",
      "d91ebc57e51640bcb279d622e14c03d6",
      "5014fec491a94807a12947e3f61ecf14",
      "0bb848846c03493ba09ac448f8e8290d",
      "719af48fc662411d88ec32fc53e3ee51",
      "cd60e7c4ff6644f6971fc45b32f75b7e",
      "ba3a181c75ec436aac41906b11cc1e22",
      "6dbbe211407c461bb5a7999c4e0f9833",
      "43d5a1846bc748fb9d91cee23ff495aa",
      "42b18ba1e2654b4f84030870f8383267",
      "8a84eafddf574a608b0d546341b4634b",
      "e07d66b73ba547eaa8ddd0c7e708994d",
      "654959a4cb0247fd81bab4430ff75ad5",
      "c3febe07888e4c51a0b8d2aaff9101dd",
      "9d1ca94774d646ef8d8e8c8359f7553a",
      "a44ef3f2bc7241c5a9be266ada90acce"
     ]
    },
    "id": "Ppc_v2k8wj5g",
    "outputId": "29a4c60b-80f8-4517-9037-7d403180aef1"
   },
   "outputs": [],
   "source": [
    "dataset = load_dataset(\"imdb\",split=\"train\")"
   ]
  },
  {
   "cell_type": "code",
   "execution_count": null,
   "metadata": {
    "colab": {
     "base_uri": "https://localhost:8080/"
    },
    "id": "jkOSU9Z2xPhb",
    "outputId": "9539e964-3320-4ba1-ef90-f7be969da73a"
   },
   "outputs": [],
   "source": [
    "dataset"
   ]
  },
  {
   "cell_type": "code",
   "execution_count": null,
   "metadata": {
    "colab": {
     "base_uri": "https://localhost:8080/",
     "height": 319,
     "referenced_widgets": [
      "6058e4aa5ce248ac8e08243151586aab",
      "548c5f481423458e9d1435f70c1f6cc9",
      "3f1c4bd4764e4879a58fcea247c45e42",
      "f878891918a1401e9f0324f576a4ae91",
      "6958611cd84c44b882b6e3bb9939bab7",
      "e5f4daed60cf4eec825acc5c6dcbad8e",
      "e2e561e21a224493ad7c93b43f301c34",
      "2066425631014f89b8e31426c8b603ec",
      "0d1941a6fcd04c2a929346e2c5672621",
      "9446b66a0bf743eeb02128f9d1493af0",
      "4091e0ec5de245348aef085cd0c0f867",
      "7898fbe1c29745a99e19a2423479eb32",
      "6b5556d045f64ecc84f9fcf70a7768fc",
      "9f22a8c554e841d08fc5518a4691e943",
      "855c155ed8b14c92b22323ba895b74fc",
      "f3389bd1731648dc90aadc37ea3cbc78",
      "fef9f7de688640c09805be429ca77fa4",
      "d4df084160d9433ab99ca6a5b883fe17",
      "acd101bbb4374fad9bc160720767694d",
      "254cd827afbb4652b4577cb07a55da6a",
      "5a0f26f00f3641e69efd0dcd49b43a13",
      "a211069b1830409a87204f59176e0797",
      "b2295d7479814599867695eb534b49b5",
      "50832249a75c4366a5a855b42b82f6b5",
      "77a775aec2bd45329a3f8fbb1c6cde89",
      "e160f712b9d442aa91b44b81557b2d93",
      "fb6a21a4681148e6bf3f7cf73e14689f",
      "8dcc907fbe094013b855e9295ec12cda",
      "05aee51a9acc49cab8af976ddb19a866",
      "8f95eda780e341a78c612248d11afdc3",
      "dedc0ee9298a47f29054d8b3fc99ff87",
      "5b8f7788c0774df0abc0765872896b58",
      "da68f20c5916400cac5fc5469423489d",
      "b1f54f81acce470286edf13742401092",
      "f17e0cec535440fbb30730d1eec10bf3",
      "628865b2d9394504a9a5fa69d58a057c",
      "9c75260c27494b6fb9af40b9e01a47c8",
      "03ee4d99ae804a749f14cc007640c1b2",
      "b83e269e2d3b4d2084d1c35593baa30b",
      "616c4b4eeb9d40f398ae03807bed39e1",
      "aa5f9ee554fe40f5a9da78e32a3a871a",
      "5ef616ef85a341eabad6fd57417ff64d",
      "8138c533abf543278e10ccc9047e6062",
      "2f1c0ce79ee14af7a4269192383d7fd5",
      "91cfaf976be7419497bbde878d98b4f6",
      "8268162ccd344d24b61dc1b708da59b4",
      "2800dbaaa08948f5bc74c9e6f8478af7",
      "c40d0b395b2f409fb83ee5f0db8e3f4d",
      "fdbf43ce6d3e438aac50f02dcde7c857",
      "4f29cdf2957b4547b732659bc82e90ab",
      "f5e71ca69c2241a481d070d2ec2a33fe",
      "a96efa0c23794ca2a9c2974ed72a4d2b",
      "3b54e3f4c5d742b8b01a423515b6bc1e",
      "5fbaf6c32c844c8eab6d5ee9716dafb6",
      "617cb643216e4765894c88f28e846b92",
      "058f858386e2406fb3317132f8f0b8b3",
      "a1894e38e8814f398212dcc83fe921f9",
      "dc8df1ff42f4486caae4199f8998c2e7",
      "a486146a924e4e3aba1b36e00c6a50c8",
      "ddc7fb33c1a84929bd47ff2f6524c351",
      "feaa94c889f644cabac501f8d7cb8660",
      "a4c4cac45a424010a97906a14cbb1b9c",
      "d99f3d9e9492457899b275d48ddcbb65",
      "511f6c6ab9184529ad7c43377245c804",
      "2cc28bc173ce4c7386fa7eb8bcd975e3",
      "851f9b162211406ca13ad9dde16d5bb3"
     ]
    },
    "id": "TLNLPp7fxWfi",
    "outputId": "104dc83e-6f16-4a6c-d1ec-946abe8a992c"
   },
   "outputs": [],
   "source": [
    "model, tokenizer = FastLanguageModel.from_pretrained(model_name=\"unsloth/mistral-7b-bnb-4bit\",dtype=None,load_in_4bit=True)"
   ]
  },
  {
   "cell_type": "code",
   "execution_count": null,
   "metadata": {
    "colab": {
     "base_uri": "https://localhost:8080/"
    },
    "id": "YMsm94SJzLpw",
    "outputId": "30921f23-8b74-421b-ea1f-8fde9afc86cd"
   },
   "outputs": [],
   "source": [
    "model = FastLanguageModel.get_peft_model(\n",
    "    model,\n",
    "    r=16,\n",
    "    target_modules=[\n",
    "        \"q_proj\", \"k_proj\", \"v_proj\",\n",
    "        \"o_proj\", \"gate_proj\", \"up_proj\", \"down_proj\"\n",
    "    ],\n",
    "    lora_alpha=16,  # ✅ lowercase 'lora_alpha'\n",
    "    lora_dropout=0, # ✅ lowercase 'lora_dropout'\n",
    "    bias=\"none\",\n",
    "    use_gradient_checkpointing=True,\n",
    "    random_state=3407\n",
    ")\n"
   ]
  },
  {
   "cell_type": "code",
   "execution_count": null,
   "metadata": {
    "colab": {
     "base_uri": "https://localhost:8080/"
    },
    "id": "rBor7WeN9YJI",
    "outputId": "6c01c9d3-ffa6-48f3-9e14-36ab88c23970"
   },
   "outputs": [],
   "source": [
    "!pip install xformers"
   ]
  },
  {
   "cell_type": "code",
   "execution_count": null,
   "metadata": {
    "id": "DXsxbwfQ3th-"
   },
   "outputs": [],
   "source": [
    "trainer = SFTTrainer(\n",
    "    model=model,\n",
    "    train_dataset=dataset,\n",
    "    dataset_text_field=\"text\",\n",
    "    tokenizer=tokenizer,\n",
    "    args=TrainingArguments(\n",
    "        per_device_train_batch_size=2,\n",
    "        gradient_accumulation_steps=4,\n",
    "        warmup_steps=10,\n",
    "        max_steps=60,\n",
    "        learning_rate=2e-4,\n",
    "        fp16=not torch.cuda.is_bf16_supported(),\n",
    "        bf16=torch.cuda.is_bf16_supported(),\n",
    "        logging_steps=1,\n",
    "        output_dir=\"unsloth-test\",\n",
    "        optim=\"paged_adamw_8bit\",\n",
    "        seed=3407\n",
    "    ),\n",
    ")\n",
    "trainer.train()"
   ]
  },
  {
   "cell_type": "code",
   "execution_count": null,
   "metadata": {
    "id": "AKtRRrjT6WPg"
   },
   "outputs": [],
   "source": [
    "inputs = tokenizer(\n",
    "    [\n",
    "        \"I really like movie because it shows emotion and Humanity\"\n",
    "    ],\n",
    "    return_tensors=\"pt\",\n",
    ").to(\"cuda\")"
   ]
  },
  {
   "cell_type": "code",
   "execution_count": null,
   "metadata": {
    "id": "HUvIVblhL2jn"
   },
   "outputs": [],
   "source": [
    "inputs"
   ]
  },
  {
   "cell_type": "code",
   "execution_count": null,
   "metadata": {
    "id": "c2hU_1hhL5ik"
   },
   "outputs": [],
   "source": [
    "#Generate output from model\n",
    "outputs = model.generate(\n",
    "    **inputs,\n",
    "    max_new_tokens =128,\n",
    "    do_sample=True,\n",
    "    top_p=0.9,\n",
    "    temperature=0.7,\n",
    "    repetition_penalty=1.2,\n",
    "    eos_token_id=tokenizer.eos_token_id\n",
    ")\n",
    "decoded = tokenizer.batch_decode(outputs,skip_speacial_tokens=True)\n",
    "cleaned =[text.replace(\"\\n\",\"\").strip() for text in decoded]\n",
    "\n",
    "print(claeaned)"
   ]
  },
  {
   "cell_type": "code",
   "execution_count": null,
   "metadata": {
    "id": "YLzFfy2VMxPg"
   },
   "outputs": [],
   "source": [
    "outputs"
   ]
  },
  {
   "cell_type": "code",
   "execution_count": null,
   "metadata": {
    "id": "NQRqS_zvMyyT"
   },
   "outputs": [],
   "source": [
    "model.save_pretrained(\"lora_model\")"
   ]
  },
  {
   "cell_type": "code",
   "execution_count": null,
   "metadata": {
    "id": "p6yAKyL9NA-5"
   },
   "outputs": [],
   "source": []
  }
 ],
 "metadata": {
  "accelerator": "GPU",
  "colab": {
   "gpuType": "T4",
   "provenance": []
  },
  "kernelspec": {
   "display_name": "Python 3",
   "name": "python3"
  },
  "language_info": {
   "name": "python"
  }
 },
 "nbformat": 4,
 "nbformat_minor": 0
}
